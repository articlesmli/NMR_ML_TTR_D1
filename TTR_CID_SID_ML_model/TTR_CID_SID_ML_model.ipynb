{
 "cells": [
  {
   "cell_type": "markdown",
   "id": "18f6f4f5-a126-4c4f-950b-8cc6ffa916b6",
   "metadata": {},
   "source": [
    "# CID_SID ML model for TTR activators "
   ]
  },
  {
   "cell_type": "markdown",
   "id": "1dcf9d82-657a-4656-b3f3-c8905d770694",
   "metadata": {},
   "source": [
    "### Content   <a name=\"content\"></a>"
   ]
  },
  {
   "cell_type": "markdown",
   "id": "b3551b8d-c497-4ba0-b627-ebcdd8e64a99",
   "metadata": {},
   "source": [
    "1. [Upload and create the DataFrame ](#1)\n",
    "2. [Ensure an equal number of classes in the test sets](#2)\n",
    "3. [Scaling](#3)\n",
    "4. [Balancing](#4)\n",
    "5. [Machine Learning](#5)\n",
    "6. [Cross validation](#6)\n",
    "7. [Scrutinise for overfitting](#7)\n",
    "8. [Hyperparameter tuning with Optuna](#8)\n",
    "9. [Scrutinise for overfitting of the ML model hyperparameter tuned by Optuna ](#9)\n",
    "10. [Final ML model](#10)\n",
    "11.  [Plot the learning curve ans AUC](#11)\n",
    "12.  [Confusion matrix, classification report](#12)"
   ]
  },
  {
   "cell_type": "markdown",
   "id": "4b14090e-b376-4ffb-86be-653a06cb09e0",
   "metadata": {},
   "source": [
    "## Upload and analyse PubChem BioAssay AID 652054 on D3 receptor <a name=\"1\"></a>"
   ]
  },
  {
   "cell_type": "code",
   "execution_count": 1,
   "id": "e72d2861-3f2d-4804-803e-1c60ad3dbaaa",
   "metadata": {},
   "outputs": [
    {
     "name": "stdout",
     "output_type": "stream",
     "text": [
      "Shape of the data frame:  (3174, 3)\n"
     ]
    },
    {
     "data": {
      "text/html": [
       "<div>\n",
       "<style scoped>\n",
       "    .dataframe tbody tr th:only-of-type {\n",
       "        vertical-align: middle;\n",
       "    }\n",
       "\n",
       "    .dataframe tbody tr th {\n",
       "        vertical-align: top;\n",
       "    }\n",
       "\n",
       "    .dataframe thead th {\n",
       "        text-align: right;\n",
       "    }\n",
       "</style>\n",
       "<table border=\"1\" class=\"dataframe\">\n",
       "  <thead>\n",
       "    <tr style=\"text-align: right;\">\n",
       "      <th></th>\n",
       "      <th>CID</th>\n",
       "      <th>SID</th>\n",
       "      <th>target</th>\n",
       "    </tr>\n",
       "  </thead>\n",
       "  <tbody>\n",
       "    <tr>\n",
       "      <th>0</th>\n",
       "      <td>657961</td>\n",
       "      <td>856604</td>\n",
       "      <td>1</td>\n",
       "    </tr>\n",
       "    <tr>\n",
       "      <th>1</th>\n",
       "      <td>2988615</td>\n",
       "      <td>49642431</td>\n",
       "      <td>0</td>\n",
       "    </tr>\n",
       "    <tr>\n",
       "      <th>2</th>\n",
       "      <td>16682357</td>\n",
       "      <td>26663415</td>\n",
       "      <td>0</td>\n",
       "    </tr>\n",
       "    <tr>\n",
       "      <th>3</th>\n",
       "      <td>1595007</td>\n",
       "      <td>26671459</td>\n",
       "      <td>0</td>\n",
       "    </tr>\n",
       "    <tr>\n",
       "      <th>4</th>\n",
       "      <td>831629</td>\n",
       "      <td>49641321</td>\n",
       "      <td>0</td>\n",
       "    </tr>\n",
       "  </tbody>\n",
       "</table>\n",
       "</div>"
      ],
      "text/plain": [
       "        CID       SID  target\n",
       "0    657961    856604       1\n",
       "1   2988615  49642431       0\n",
       "2  16682357  26663415       0\n",
       "3   1595007  26671459       0\n",
       "4    831629  49641321       0"
      ]
     },
     "execution_count": 1,
     "metadata": {},
     "output_type": "execute_result"
    }
   ],
   "source": [
    "import os\n",
    "import pandas as pd \n",
    "\n",
    "# Navigate to the files\n",
    "file_path = os.path.join(\"..\", 'TTR/input', \"CID_SID_targets.csv\")\n",
    "\n",
    "# load the data frames\n",
    "df = pd.read_csv(file_path)\n",
    "\n",
    "# Display the data frame\n",
    "print('Shape of the data frame: ', df.shape)\n",
    "df.head()"
   ]
  },
  {
   "cell_type": "code",
   "execution_count": 2,
   "id": "dd9b495c-dd4b-4c61-8755-386c0f7cacd1",
   "metadata": {},
   "outputs": [
    {
     "data": {
      "text/plain": [
       "(3174, 3)"
      ]
     },
     "execution_count": 2,
     "metadata": {},
     "output_type": "execute_result"
    }
   ],
   "source": [
    "# Remove duplicates \n",
    "df.drop_duplicates()\n",
    "df.shape  "
   ]
  },
  {
   "cell_type": "code",
   "execution_count": 3,
   "id": "5f2cf689-c5cb-4bc6-af7c-4178c8e9fe3e",
   "metadata": {},
   "outputs": [
    {
     "data": {
      "text/plain": [
       "target\n",
       "0    2020\n",
       "1    1154\n",
       "Name: count, dtype: int64"
      ]
     },
     "execution_count": 3,
     "metadata": {},
     "output_type": "execute_result"
    }
   ],
   "source": [
    "# Count the target value\n",
    "df['target'].value_counts()"
   ]
  },
  {
   "cell_type": "markdown",
   "id": "3aef09d2-1b29-4d68-bc44-1de98bc8680a",
   "metadata": {},
   "source": [
    "[<a href=\"#content\">Back to top</a>]"
   ]
  },
  {
   "cell_type": "markdown",
   "id": "87aa986e-cd35-4305-be67-4938e518f0f1",
   "metadata": {},
   "source": [
    "## Ensure an equal number of classes in the test sets <a name=\"2\"></a>"
   ]
  },
  {
   "cell_type": "code",
   "execution_count": 4,
   "id": "d95ec678-e6ed-492d-804c-899946dbcd11",
   "metadata": {},
   "outputs": [],
   "source": [
    "# Handle the part of target 1 in the test set \n",
    "df_1 = df[df['target']==1]\n",
    "\n",
    "# Shuffle the resulting data set\n",
    "df_1 = df_1.sample(\n",
    "    frac = 1,        # Return entire dataframe\n",
    "    random_state=1   # Make result reproducible\n",
    "    ).reset_index(drop=True)\n",
    "\n",
    "# Extract 2800 samples (10% of 28000 samples) of target 1 for the test set\n",
    "df_1_test = df_1.iloc[:340] \n",
    "\n",
    "# Assign the rest of target 1 for the train set\n",
    "df_1_train = df_1.iloc[341:]"
   ]
  },
  {
   "cell_type": "code",
   "execution_count": 5,
   "id": "73f1589d-458e-41ab-b168-eeb7c2238db8",
   "metadata": {},
   "outputs": [],
   "source": [
    "# Handle the part of target 1 in the test set \n",
    "df_0 = df[df['target']==0]\n",
    "\n",
    "# Shuffle the resulting data set\n",
    "df_0 = df_0.sample(\n",
    "    frac = 1,        # Return entire dataframe\n",
    "    random_state=1   # Make result reproducible\n",
    "    ).reset_index(drop=True)\n",
    "\n",
    "## Extract 10% of the target 0 for  the test set\n",
    "df_0_test = df_0.iloc[:340]\n",
    "\n",
    "# Assign the rest of target 1 for the train set\n",
    "df_0_train = df_0.iloc[341:]"
   ]
  },
  {
   "cell_type": "code",
   "execution_count": 6,
   "id": "eafe8a83-de09-4eb9-b09f-5c9eadae9ccb",
   "metadata": {},
   "outputs": [],
   "source": [
    "# Create train and test dataframe for further manipulation \n",
    "train = pd.concat([df_0_train, df_1_train])\n",
    "test = pd.concat([df_0_test, df_1_test])"
   ]
  },
  {
   "cell_type": "code",
   "execution_count": 7,
   "id": "cb47e2c1-66dc-489e-8603-8f21cbf9f63c",
   "metadata": {},
   "outputs": [],
   "source": [
    "# Create the sets for ML \n",
    "X_train = train.drop(columns='target', axis=1)\n",
    "y_train = train['target']\n",
    "X_test =  test.drop(columns='target', axis=1)\n",
    "y_test = test['target']"
   ]
  },
  {
   "cell_type": "code",
   "execution_count": 8,
   "id": "8db42968-7a1c-4741-b8c4-8273d258936c",
   "metadata": {},
   "outputs": [],
   "source": [
    "# Create the sets for Cross-validation\n",
    "X = pd.concat([X_train, X_test])\n",
    "y = pd.concat([y_train,y_test])"
   ]
  },
  {
   "cell_type": "code",
   "execution_count": 9,
   "id": "1e733ec8-d30a-4a5a-8f96-a635209bf2c0",
   "metadata": {},
   "outputs": [
    {
     "data": {
      "text/plain": [
       "target\n",
       "0    340\n",
       "1    340\n",
       "Name: count, dtype: int64"
      ]
     },
     "execution_count": 9,
     "metadata": {},
     "output_type": "execute_result"
    }
   ],
   "source": [
    "# Check the number of classes in the y_test set\n",
    "y_test.value_counts()"
   ]
  },
  {
   "cell_type": "markdown",
   "id": "b3616e4a-b4d8-4f8f-95ad-c464be55f878",
   "metadata": {},
   "source": [
    "[<a href=\"#content\">Back to top</a>]"
   ]
  },
  {
   "cell_type": "markdown",
   "id": "28249e36-57b3-4e02-bf58-aeab54c6a7ca",
   "metadata": {},
   "source": [
    "## Scaling <a name=\"3\"></a>"
   ]
  },
  {
   "cell_type": "code",
   "execution_count": 10,
   "id": "634e03ae-2ae7-48c5-bdce-d704c35ceee0",
   "metadata": {},
   "outputs": [
    {
     "name": "stdout",
     "output_type": "stream",
     "text": [
      "Shapes:\n",
      "X_train:  (2492, 2)\n",
      "X_test:   (680, 2)\n",
      "y_train:  (2492,)\n",
      "y_test:   (680,)\n"
     ]
    }
   ],
   "source": [
    "from sklearn import preprocessing\n",
    "from sklearn.preprocessing import StandardScaler\n",
    "\n",
    "# # Standardise the data points\n",
    "sc = StandardScaler()\n",
    "X_train = sc.fit_transform(X_train)\n",
    "X_test = sc.transform(X_test)\n",
    "\n",
    "# Print the shape of each part\n",
    "print(\"Shapes:\")\n",
    "print(\"X_train: \", X_train.shape)\n",
    "print(\"X_test:  \", X_test.shape)\n",
    "print(\"y_train: \", y_train.shape)\n",
    "print(\"y_test:  \", y_test.shape)"
   ]
  },
  {
   "cell_type": "markdown",
   "id": "240641af-a206-475f-a985-39c0be93f882",
   "metadata": {},
   "source": [
    "[<a href=\"#content\">Back to top</a>]"
   ]
  },
  {
   "cell_type": "markdown",
   "id": "6fd81f61-c802-4a86-89a8-eecb3cdab46c",
   "metadata": {},
   "source": [
    "## Balancing <a name=\"4\"></a>"
   ]
  },
  {
   "cell_type": "code",
   "execution_count": 11,
   "id": "b7a7ac7f-13dc-4f74-9a86-51138ac4d3be",
   "metadata": {},
   "outputs": [
    {
     "name": "stdout",
     "output_type": "stream",
     "text": [
      "[(0, 1679), (1, 813)]\n"
     ]
    },
    {
     "data": {
      "image/png": "[encoded data removed]",
      "text/plain": [
       "<Figure size 640x480 with 1 Axes>"
      ]
     },
     "metadata": {},
     "output_type": "display_data"
    }
   ],
   "source": [
    "from collections import Counter\n",
    "from matplotlib import pyplot as plt\n",
    "import seaborn as sns\n",
    "\n",
    "# Plot the imbalance between the targets \n",
    "print(sorted(Counter(y_train).items()))\n",
    "sns.set_style('white')\n",
    "sns.set(font_scale=1)\n",
    "plt.figure()\n",
    "sns.countplot(x=y_train, hue=y_train, palette='nipy_spectral')\n",
    "plt.show()"
   ]
  },
  {
   "cell_type": "code",
   "execution_count": 12,
   "id": "15ac07a9-3d7d-4445-ad56-8d4dd53fc1b4",
   "metadata": {},
   "outputs": [
    {
     "name": "stdout",
     "output_type": "stream",
     "text": [
      "[(0, 1679), (1, 1679)]\n"
     ]
    },
    {
     "data": {
      "image/png": "[encoded data removed]",
      "text/plain": [
       "<Figure size 640x480 with 1 Axes>"
      ]
     },
     "metadata": {},
     "output_type": "display_data"
    }
   ],
   "source": [
    "from imblearn.over_sampling import SMOTE\n",
    "# from imblearn.over_sampling import RandomOverSampler\n",
    "\n",
    "# Balance targets with Synthetic Minority Oversampling Technique\n",
    "smote = SMOTE(random_state=0)\n",
    "# ros = RandomOverSampler()\n",
    "\n",
    "X_train, y_train = smote.fit_resample(X_train, y_train)\n",
    "\n",
    "# Plot the balance between classification targets \n",
    "print(sorted(Counter(y_train).items()))\n",
    "sns.set_style('white')\n",
    "sns.set(font_scale=1)\n",
    "plt.figure()\n",
    "sns.countplot(x=y_train, hue=y_train,palette='nipy_spectral')\n",
    "plt.show()"
   ]
  },
  {
   "cell_type": "code",
   "execution_count": 13,
   "id": "310a6a37-d14d-412f-af33-2258e8a70ca9",
   "metadata": {},
   "outputs": [
    {
     "name": "stdout",
     "output_type": "stream",
     "text": [
      "Shapes:\n",
      "X_train:  (3358, 2)\n",
      "X_test:   (680, 2)\n",
      "y_train:  (3358,)\n",
      "y_test:   (680,)\n"
     ]
    }
   ],
   "source": [
    "# Print the shape of each part\n",
    "print(\"Shapes:\")\n",
    "print(\"X_train: \", X_train.shape)\n",
    "print(\"X_test:  \", X_test.shape)\n",
    "print(\"y_train: \", y_train.shape)\n",
    "print(\"y_test:  \", y_test.shape)"
   ]
  },
  {
   "cell_type": "markdown",
   "id": "2fd98b35-a898-4550-8ded-a7a6a8b3d2a3",
   "metadata": {},
   "source": [
    "[<a href=\"#content\">Back to top</a>]"
   ]
  },
  {
   "cell_type": "markdown",
   "id": "0be71d7a-e6fa-40c2-8470-115aabe594ce",
   "metadata": {},
   "source": [
    "## Machine Learning <a name=\"5\"></a>"
   ]
  },
  {
   "cell_type": "code",
   "execution_count": 14,
   "id": "3f19292d-c600-4437-af3a-f799927ae4fb",
   "metadata": {},
   "outputs": [],
   "source": [
    "from sklearn.svm import SVC\n",
    "from sklearn.tree import DecisionTreeClassifier\n",
    "from sklearn.ensemble import RandomForestClassifier\n",
    "from sklearn.ensemble import GradientBoostingClassifier\n",
    "from xgboost import XGBClassifier\n",
    "from sklearn.neighbors import KNeighborsClassifier\n",
    "\n",
    "# Instantiate the algorithms that will be used, placing them in a dictionary \n",
    "clfs = {\"SVM\":SVC(kernel='rbf', C=1, probability=True),\n",
    "        \"Decision\":DecisionTreeClassifier(), \n",
    "        \"RandomForest\":RandomForestClassifier(), \n",
    "        \"GradientBoost\":GradientBoostingClassifier(),\n",
    "        \"K-nearest\": KNeighborsClassifier(n_neighbors=3)\n",
    "       }"
   ]
  },
  {
   "cell_type": "code",
   "execution_count": 15,
   "id": "863246a5-92a4-47b6-ae60-075ebf9de7ad",
   "metadata": {},
   "outputs": [
    {
     "data": {
      "text/html": [
       "<div>\n",
       "<style scoped>\n",
       "    .dataframe tbody tr th:only-of-type {\n",
       "        vertical-align: middle;\n",
       "    }\n",
       "\n",
       "    .dataframe tbody tr th {\n",
       "        vertical-align: top;\n",
       "    }\n",
       "\n",
       "    .dataframe thead th {\n",
       "        text-align: right;\n",
       "    }\n",
       "</style>\n",
       "<table border=\"1\" class=\"dataframe\">\n",
       "  <thead>\n",
       "    <tr style=\"text-align: right;\">\n",
       "      <th></th>\n",
       "      <th>1.Algorithm</th>\n",
       "      <th>2.Accuracy</th>\n",
       "      <th>3.Precision</th>\n",
       "      <th>4.Recall</th>\n",
       "      <th>5.F1</th>\n",
       "      <th>6.ROC</th>\n",
       "    </tr>\n",
       "  </thead>\n",
       "  <tbody>\n",
       "    <tr>\n",
       "      <th>3</th>\n",
       "      <td>GradientBoost</td>\n",
       "      <td>0.815</td>\n",
       "      <td>0.946</td>\n",
       "      <td>0.668</td>\n",
       "      <td>0.783</td>\n",
       "      <td>0.815</td>\n",
       "    </tr>\n",
       "    <tr>\n",
       "      <th>4</th>\n",
       "      <td>K-nearest</td>\n",
       "      <td>0.791</td>\n",
       "      <td>0.844</td>\n",
       "      <td>0.715</td>\n",
       "      <td>0.774</td>\n",
       "      <td>0.791</td>\n",
       "    </tr>\n",
       "    <tr>\n",
       "      <th>2</th>\n",
       "      <td>RandomForest</td>\n",
       "      <td>0.785</td>\n",
       "      <td>0.844</td>\n",
       "      <td>0.700</td>\n",
       "      <td>0.765</td>\n",
       "      <td>0.785</td>\n",
       "    </tr>\n",
       "    <tr>\n",
       "      <th>0</th>\n",
       "      <td>SVM</td>\n",
       "      <td>0.774</td>\n",
       "      <td>0.970</td>\n",
       "      <td>0.565</td>\n",
       "      <td>0.714</td>\n",
       "      <td>0.774</td>\n",
       "    </tr>\n",
       "    <tr>\n",
       "      <th>1</th>\n",
       "      <td>Decision</td>\n",
       "      <td>0.740</td>\n",
       "      <td>0.774</td>\n",
       "      <td>0.676</td>\n",
       "      <td>0.722</td>\n",
       "      <td>0.740</td>\n",
       "    </tr>\n",
       "  </tbody>\n",
       "</table>\n",
       "</div>"
      ],
      "text/plain": [
       "     1.Algorithm  2.Accuracy  3.Precision  4.Recall   5.F1  6.ROC\n",
       "3  GradientBoost       0.815        0.946     0.668  0.783  0.815\n",
       "4      K-nearest       0.791        0.844     0.715  0.774  0.791\n",
       "2   RandomForest       0.785        0.844     0.700  0.765  0.785\n",
       "0            SVM       0.774        0.970     0.565  0.714  0.774\n",
       "1       Decision       0.740        0.774     0.676  0.722  0.740"
      ]
     },
     "execution_count": 15,
     "metadata": {},
     "output_type": "execute_result"
    }
   ],
   "source": [
    "from sklearn.metrics import f1_score, accuracy_score, precision_score, recall_score, roc_auc_score\n",
    "\n",
    "# Create statistics with the results of training with different algorithms\n",
    "def model_fit(clfs):\n",
    "    fitted_model={}\n",
    "    model_result = pd.DataFrame()\n",
    "    # Iterate the clfs dictionary clfs\n",
    "    for model_name, model in clfs.items():\n",
    "        # Train the current model\n",
    "        model.fit(X_train,y_train)\n",
    "        # Add the current model name\n",
    "        fitted_model.update({model_name:model})\n",
    "        # Prediction of the current model \n",
    "        y_pred = model.predict(X_test)\n",
    "        model_dict = {}\n",
    "        model_dict['1.Algorithm'] = model_name\n",
    "        # Calculate the metrics\n",
    "        model_dict['2.Accuracy'] = round(accuracy_score(y_test, y_pred),3)\n",
    "        model_dict['3.Precision'] = round(precision_score(y_test, y_pred),3)\n",
    "        model_dict['4.Recall'] = round(recall_score(y_test, y_pred),3)\n",
    "        model_dict['5.F1'] = round(f1_score(y_test, y_pred),3)\n",
    "        model_dict['6.ROC'] = round(roc_auc_score(y_test, y_pred),3)\n",
    "        model_result = model_result._append(model_dict,ignore_index=True)\n",
    "    return fitted_model, model_result\n",
    "\n",
    "# Run the function model_fit(clfs) \n",
    "fitted_model, model_result = model_fit(clfs)\n",
    "\n",
    "# Display the results of the model_fit(clfs) function in a descending order\n",
    "model_result.sort_values(by=['2.Accuracy'],ascending=False)"
   ]
  },
  {
   "cell_type": "markdown",
   "id": "6c3e011c-b274-40f3-8ebf-459f2d247ab2",
   "metadata": {},
   "source": [
    "[<a href=\"#content\">Back to top</a>]"
   ]
  },
  {
   "cell_type": "markdown",
   "id": "566c36d6-e441-4365-a7ab-e9caa698324b",
   "metadata": {},
   "source": [
    "## Cross-validation  <a name=\"6\"></a>"
   ]
  },
  {
   "cell_type": "code",
   "execution_count": 16,
   "id": "15f68a7d-c7fa-476b-aaf2-363b9dd63870",
   "metadata": {
    "scrolled": true
   },
   "outputs": [
    {
     "data": {
      "text/html": [
       "<div>\n",
       "<style scoped>\n",
       "    .dataframe tbody tr th:only-of-type {\n",
       "        vertical-align: middle;\n",
       "    }\n",
       "\n",
       "    .dataframe tbody tr th {\n",
       "        vertical-align: top;\n",
       "    }\n",
       "\n",
       "    .dataframe thead th {\n",
       "        text-align: right;\n",
       "    }\n",
       "</style>\n",
       "<table border=\"1\" class=\"dataframe\">\n",
       "  <thead>\n",
       "    <tr style=\"text-align: right;\">\n",
       "      <th></th>\n",
       "      <th>1.Algorithm</th>\n",
       "      <th>2.Mean CV Score</th>\n",
       "      <th>3.Standard Deviation</th>\n",
       "      <th>4.List of CV Scores</th>\n",
       "    </tr>\n",
       "  </thead>\n",
       "  <tbody>\n",
       "    <tr>\n",
       "      <th>3</th>\n",
       "      <td>GradientBoost</td>\n",
       "      <td>0.8458</td>\n",
       "      <td>0.0085</td>\n",
       "      <td>[0.8472, 0.852, 0.8297, 0.847, 0.8533]</td>\n",
       "    </tr>\n",
       "    <tr>\n",
       "      <th>2</th>\n",
       "      <td>RandomForest</td>\n",
       "      <td>0.8301</td>\n",
       "      <td>0.0055</td>\n",
       "      <td>[0.8205, 0.8362, 0.8312, 0.8281, 0.8344]</td>\n",
       "    </tr>\n",
       "    <tr>\n",
       "      <th>4</th>\n",
       "      <td>K-nearest</td>\n",
       "      <td>0.8175</td>\n",
       "      <td>0.0067</td>\n",
       "      <td>[0.8205, 0.8157, 0.8076, 0.8155, 0.8281]</td>\n",
       "    </tr>\n",
       "    <tr>\n",
       "      <th>0</th>\n",
       "      <td>SVM</td>\n",
       "      <td>0.8108</td>\n",
       "      <td>0.0139</td>\n",
       "      <td>[0.8079, 0.8205, 0.8155, 0.7855, 0.8249]</td>\n",
       "    </tr>\n",
       "    <tr>\n",
       "      <th>1</th>\n",
       "      <td>Decision</td>\n",
       "      <td>0.7799</td>\n",
       "      <td>0.0078</td>\n",
       "      <td>[0.7811, 0.7874, 0.7681, 0.7744, 0.7886]</td>\n",
       "    </tr>\n",
       "  </tbody>\n",
       "</table>\n",
       "</div>"
      ],
      "text/plain": [
       "     1.Algorithm  2.Mean CV Score  3.Standard Deviation  \\\n",
       "3  GradientBoost           0.8458                0.0085   \n",
       "2   RandomForest           0.8301                0.0055   \n",
       "4      K-nearest           0.8175                0.0067   \n",
       "0            SVM           0.8108                0.0139   \n",
       "1       Decision           0.7799                0.0078   \n",
       "\n",
       "                        4.List of CV Scores  \n",
       "3    [0.8472, 0.852, 0.8297, 0.847, 0.8533]  \n",
       "2  [0.8205, 0.8362, 0.8312, 0.8281, 0.8344]  \n",
       "4  [0.8205, 0.8157, 0.8076, 0.8155, 0.8281]  \n",
       "0  [0.8079, 0.8205, 0.8155, 0.7855, 0.8249]  \n",
       "1  [0.7811, 0.7874, 0.7681, 0.7744, 0.7886]  "
      ]
     },
     "execution_count": 16,
     "metadata": {},
     "output_type": "execute_result"
    }
   ],
   "source": [
    "# Cross validation\n",
    "from sklearn.model_selection import cross_val_score\n",
    "import numpy as np\n",
    "\n",
    "# Create statistics with the results of the cross-validation of different estimators\n",
    "def model_CV(clfs):\n",
    "    estimated_model={}\n",
    "    model_cv_result = pd.DataFrame()\n",
    "    for model_name, model in clfs.items():\n",
    "        estimated_model.update({model_name:model})\n",
    "        scores = cross_val_score(model, X, y, cv=5, scoring='accuracy')\n",
    "        model_dict = {}\n",
    "        model_dict['1.Algorithm'] = model_name\n",
    "        model_dict['2.Mean CV Score'] = round(scores.mean(), 4)\n",
    "        model_dict['3.Standard Deviation'] = round(scores.std(), 4)\n",
    "        model_dict['4.List of CV Scores'] = np.round(scores, 4)\n",
    "        model_cv_result = model_cv_result._append(model_dict,ignore_index=True)\n",
    "    return estimated_model, model_cv_result\n",
    "\n",
    "# Run the model_CV(clsf) function\n",
    "estimated_model, model_cv_result = model_CV(clfs)\n",
    "\n",
    "# Display the results of cross_validation statistics in a descending order\n",
    "model_cv_result.sort_values(by=['2.Mean CV Score'],ascending=False)"
   ]
  },
  {
   "cell_type": "markdown",
   "id": "cee89838-931c-495c-bbb5-8b905d45fc23",
   "metadata": {},
   "source": [
    "[<a href=\"#content\">Back to top</a>]"
   ]
  },
  {
   "cell_type": "markdown",
   "id": "8ac1c06a-23c0-4ddf-b165-ac1eb4c6967f",
   "metadata": {},
   "source": [
    "## Scrutinise for overfitting  <a name=\"7\"></a>"
   ]
  },
  {
   "cell_type": "code",
   "execution_count": 17,
   "id": "d1867709-c4c6-4275-b56e-02a73883cf2c",
   "metadata": {},
   "outputs": [
    {
     "name": "stdout",
     "output_type": "stream",
     "text": [
      ">1, train: 0.799, test: 0.799\n",
      ">2, train: 0.816, test: 0.821\n",
      ">3, train: 0.833, test: 0.815\n",
      ">4, train: 0.876, test: 0.803\n",
      ">5, train: 0.897, test: 0.804\n",
      ">6, train: 0.920, test: 0.809\n",
      ">7, train: 0.940, test: 0.801\n",
      ">8, train: 0.970, test: 0.787\n",
      ">9, train: 0.981, test: 0.787\n",
      ">10, train: 0.993, test: 0.782\n",
      ">11, train: 0.995, test: 0.769\n",
      ">12, train: 1.000, test: 0.768\n",
      ">13, train: 1.000, test: 0.774\n",
      ">14, train: 1.000, test: 0.768\n",
      ">15, train: 1.000, test: 0.768\n",
      ">16, train: 1.000, test: 0.763\n",
      ">17, train: 1.000, test: 0.756\n",
      ">18, train: 1.000, test: 0.760\n",
      ">19, train: 1.000, test: 0.760\n",
      ">20, train: 1.000, test: 0.757\n"
     ]
    }
   ],
   "source": [
    "# Evaluate XGBClassifier performance on train and test sets with different tree depths\n",
    "train_scores, test_scores = list(), list()\n",
    "# define the tree depths to evaluate\n",
    "values = [i for i in range(1, 21)]\n",
    "# evaluate a decision tree for each depth\n",
    "for i in values:\n",
    " # configure the model\n",
    " model_ = GradientBoostingClassifier(max_depth=i)\n",
    " # fit model_ on the training dataset\n",
    " model_.fit(X_train, y_train)\n",
    " # evaluate on the train dataset\n",
    " train_yhat = model_.predict(X_train)\n",
    " train_acc = accuracy_score(y_train, train_yhat)\n",
    " train_scores.append(train_acc)\n",
    " # evaluate on the test dataset\n",
    " test_yhat = model_.predict(X_test)\n",
    " test_acc = accuracy_score(y_test, test_yhat)\n",
    " test_scores.append(test_acc)\n",
    " # summarize progress\n",
    " print('>%d, train: %.3f, test: %.3f' % (i, train_acc, test_acc))"
   ]
  },
  {
   "cell_type": "code",
   "execution_count": 18,
   "id": "6dca42ef-c1a6-455e-aef4-7af95dd85330",
   "metadata": {},
   "outputs": [
    {
     "data": {
      "image/png": "[encoded data removed]",
      "text/plain": [
       "<Figure size 640x480 with 1 Axes>"
      ]
     },
     "metadata": {},
     "output_type": "display_data"
    }
   ],
   "source": [
    "import math\n",
    "\n",
    "# Set integers for x axis\n",
    "new_x_ticks = range(math.floor(min(values)), math.ceil(max(values))+1)\n",
    "plt.xticks(new_x_ticks)\n",
    "# Plot of train and test scores vs tree depth\n",
    "plt.plot(values, train_scores, '-o', label='Train')\n",
    "plt.plot(values, test_scores, '-o', label='Test')\n",
    "plt.legend()\n",
    "plt.xlabel(\"max_depth\")\n",
    "plt.ylabel(\"accuravy\")\n",
    "plt.show()"
   ]
  },
  {
   "cell_type": "markdown",
   "id": "0a4f2214-c6dc-477b-bd23-55ac33458cc7",
   "metadata": {},
   "source": [
    "[<a href=\"#content\">Back to top</a>]"
   ]
  },
  {
   "cell_type": "markdown",
   "id": "d05271d6-d591-44a8-af10-36cdf79a9267",
   "metadata": {},
   "source": [
    "## Hyperparameter tuning with Optuna<a name=\"8\"></a>"
   ]
  },
  {
   "cell_type": "code",
   "execution_count": 19,
   "id": "742eb91a-a139-410b-ae97-4a71e1245b73",
   "metadata": {},
   "outputs": [
    {
     "name": "stderr",
     "output_type": "stream",
     "text": [
      "[I 2025-05-15 19:45:48,179] A new study created in memory with name: no-name-9f798863-3378-435e-ab7a-273d0c21c53a\n",
      "[I 2025-05-15 19:45:54,265] Trial 0 finished with value: -0.8109032361081541 and parameters: {'n_estimators': 187, 'learning_rate': 0.27190357353509836, 'max_depth': 7, 'min_samples_split': 16, 'min_samples_leaf': 6}. Best is trial 0 with value: -0.8109032361081541.\n",
      "[I 2025-05-15 19:45:56,628] Trial 1 finished with value: -0.8159676389184586 and parameters: {'n_estimators': 121, 'learning_rate': 0.22767933593285353, 'max_depth': 4, 'min_samples_split': 14, 'min_samples_leaf': 9}. Best is trial 1 with value: -0.8159676389184586.\n",
      "[I 2025-05-15 19:46:00,998] Trial 2 finished with value: -0.8168627137889434 and parameters: {'n_estimators': 133, 'learning_rate': 0.1729052554098199, 'max_depth': 7, 'min_samples_split': 11, 'min_samples_leaf': 8}. Best is trial 2 with value: -0.8168627137889434.\n",
      "[I 2025-05-15 19:46:04,865] Trial 3 finished with value: -0.8091161911858633 and parameters: {'n_estimators': 196, 'learning_rate': 0.033987564124581614, 'max_depth': 4, 'min_samples_split': 9, 'min_samples_leaf': 7}. Best is trial 2 with value: -0.8168627137889434.\n",
      "[I 2025-05-15 19:46:10,203] Trial 4 finished with value: -0.8150774430487544 and parameters: {'n_estimators': 162, 'learning_rate': 0.2110321995578807, 'max_depth': 7, 'min_samples_split': 13, 'min_samples_leaf': 1}. Best is trial 2 with value: -0.8168627137889434.\n",
      "[I 2025-05-15 19:46:15,963] Trial 5 finished with value: -0.8195412852175148 and parameters: {'n_estimators': 198, 'learning_rate': 0.15039539810688948, 'max_depth': 6, 'min_samples_split': 13, 'min_samples_leaf': 7}. Best is trial 5 with value: -0.8195412852175148.\n",
      "[I 2025-05-15 19:46:21,898] Trial 6 finished with value: -0.8207326484990419 and parameters: {'n_estimators': 199, 'learning_rate': 0.03418594624107426, 'max_depth': 6, 'min_samples_split': 17, 'min_samples_leaf': 8}. Best is trial 6 with value: -0.8207326484990419.\n",
      "[I 2025-05-15 19:46:24,828] Trial 7 finished with value: -0.8034574373713717 and parameters: {'n_estimators': 148, 'learning_rate': 0.033769485286492366, 'max_depth': 4, 'min_samples_split': 19, 'min_samples_leaf': 10}. Best is trial 6 with value: -0.8207326484990419.\n",
      "[I 2025-05-15 19:46:30,598] Trial 8 finished with value: -0.8275805478674331 and parameters: {'n_estimators': 127, 'learning_rate': 0.0689071643153505, 'max_depth': 9, 'min_samples_split': 12, 'min_samples_leaf': 7}. Best is trial 8 with value: -0.8275805478674331.\n",
      "[I 2025-05-15 19:46:33,660] Trial 9 finished with value: -0.8007788659428003 and parameters: {'n_estimators': 153, 'learning_rate': 0.020675760549929197, 'max_depth': 4, 'min_samples_split': 2, 'min_samples_leaf': 8}. Best is trial 8 with value: -0.8275805478674331.\n"
     ]
    },
    {
     "name": "stdout",
     "output_type": "stream",
     "text": [
      "Best Accuracy: 0.8073529411764706\n",
      "Best Hyperparameters: {'n_estimators': 127, 'learning_rate': 0.0689071643153505, 'max_depth': 9, 'min_samples_split': 12, 'min_samples_leaf': 7}\n"
     ]
    }
   ],
   "source": [
    "import optuna\n",
    "\n",
    "def objective(trial):\n",
    "    \"\"\"\n",
    "    Objective function for Optuna hyperparameter tuning.\n",
    "\n",
    "    Args:\n",
    "        trial: An Optuna trial object.\n",
    "\n",
    "    Returns:\n",
    "        The negative accuracy score (to be minimized).\n",
    "    \"\"\"\n",
    "    params = {\n",
    "        'n_estimators': trial.suggest_int('n_estimators', 50, 200), \n",
    "        'learning_rate': trial.suggest_float('learning_rate', 0.01, 0.3, log=True), \n",
    "        'max_depth': trial.suggest_int('max_depth', 3, 10),\n",
    "        'min_samples_split': trial.suggest_int('min_samples_split', 2, 20),\n",
    "        'min_samples_leaf': trial.suggest_int('min_samples_leaf', 1, 10)\n",
    "    }\n",
    "\n",
    "    model = GradientBoostingClassifier(**params, random_state=42) \n",
    "    accuracy = cross_val_score(model, X_train, y_train, cv=5, scoring='accuracy').mean()\n",
    "    return -accuracy  # Optuna minimizes the objective function\n",
    "\n",
    "# Create a study object\n",
    "study = optuna.create_study(direction='minimize')\n",
    "\n",
    "# Run the optimization\n",
    "study.optimize(objective, n_trials=10)  # Adjust n_trials as needed\n",
    "\n",
    "# Get the best hyperparameters\n",
    "best_params = study.best_params\n",
    "\n",
    "# Train the model with the best hyperparameters\n",
    "best_model = GradientBoostingClassifier(**best_params, random_state=42)\n",
    "best_model.fit(X_train, y_train)\n",
    "\n",
    "# Evaluate the best model on the test set\n",
    "y_pred = best_model.predict(X_test)\n",
    "accuracy = accuracy_score(y_test, y_pred) \n",
    "print(f\"Best Accuracy: {accuracy}\")\n",
    "print(f\"Best Hyperparameters: {best_params}\")"
   ]
  },
  {
   "cell_type": "markdown",
   "id": "aa706420-5daa-449d-9c23-92c6c0363a07",
   "metadata": {},
   "source": [
    "[<a href=\"#content\">Back to top</a>]"
   ]
  },
  {
   "cell_type": "markdown",
   "id": "d9aa3387-94d5-479b-be16-a409e01cc863",
   "metadata": {},
   "source": [
    "## Scrutinise for overfitting of the MLmodel hyperparameter tuned by Optuna  <a name=\"9\"></a>"
   ]
  },
  {
   "cell_type": "code",
   "execution_count": 21,
   "id": "9583265d-64a0-4d66-8ff0-94d668b8d307",
   "metadata": {},
   "outputs": [
    {
     "name": "stdout",
     "output_type": "stream",
     "text": [
      ">1, train: 0.799, test: 0.799\n",
      ">2, train: 0.812, test: 0.809\n",
      ">3, train: 0.832, test: 0.810\n",
      ">4, train: 0.852, test: 0.807\n",
      ">5, train: 0.873, test: 0.801\n",
      ">6, train: 0.894, test: 0.807\n",
      ">7, train: 0.904, test: 0.801\n",
      ">8, train: 0.921, test: 0.801\n",
      ">9, train: 0.927, test: 0.806\n",
      ">10, train: 0.938, test: 0.800\n",
      ">11, train: 0.947, test: 0.796\n",
      ">12, train: 0.955, test: 0.794\n",
      ">13, train: 0.965, test: 0.799\n",
      ">14, train: 0.971, test: 0.800\n",
      ">15, train: 0.973, test: 0.794\n",
      ">16, train: 0.977, test: 0.793\n",
      ">17, train: 0.985, test: 0.782\n",
      ">18, train: 0.984, test: 0.775\n",
      ">19, train: 0.986, test: 0.779\n",
      ">20, train: 0.990, test: 0.778\n"
     ]
    }
   ],
   "source": [
    "# Evaluate random forest classifier performance on train and test sets with different tree depths\n",
    "train_scores, test_scores = list(), list()\n",
    "# define the tree depths to evaluate\n",
    "values = [i for i in range(1, 21)]\n",
    "# evaluate a decision tree for each depth\n",
    "for i in values:\n",
    " # configure the model\n",
    " model_ = GradientBoostingClassifier(max_depth=i, \n",
    "                                    n_estimators = 127,\n",
    "                                    learning_rate = 0.0689071643153505, \n",
    "                                    min_samples_split = 12, \n",
    "                                    min_samples_leaf = 7)\n",
    " # fit model_ on the training dataset\n",
    " model_.fit(X_train, y_train)\n",
    " # evaluate on the train dataset\n",
    " train_yhat = model_.predict(X_train)\n",
    " train_acc = accuracy_score(y_train, train_yhat)\n",
    " train_scores.append(train_acc)\n",
    " # evaluate on the test dataset\n",
    " test_yhat = model_.predict(X_test)\n",
    " test_acc = accuracy_score(y_test, test_yhat)\n",
    " test_scores.append(test_acc)\n",
    " # summarize progress\n",
    " print('>%d, train: %.3f, test: %.3f' % (i, train_acc, test_acc))"
   ]
  },
  {
   "cell_type": "code",
   "execution_count": 22,
   "id": "3cdd54ea-fd30-4ae3-a944-3565f93bbf47",
   "metadata": {},
   "outputs": [
    {
     "data": {
      "image/png": "[encoded data removed]",
      "text/plain": [
       "<Figure size 640x480 with 1 Axes>"
      ]
     },
     "metadata": {},
     "output_type": "display_data"
    }
   ],
   "source": [
    "# Set integers for x axis\n",
    "new_x_ticks = range(math.floor(min(values)), math.ceil(max(values))+1)\n",
    "plt.xticks(new_x_ticks)\n",
    "# Plot of train and test scores vs tree depth\n",
    "plt.plot(values, train_scores, '-o', label='Train')\n",
    "plt.plot(values, test_scores, '-o', label='Test')\n",
    "plt.legend()\n",
    "plt.xlabel(\"max_depth\")\n",
    "plt.ylabel(\"accuravy\")\n",
    "plt.show()"
   ]
  },
  {
   "cell_type": "markdown",
   "id": "b887be4b-c03f-42bb-8509-6f17d6869845",
   "metadata": {},
   "source": [
    "[<a href=\"#content\">Back to top</a>]"
   ]
  },
  {
   "cell_type": "markdown",
   "id": "c28f1f7b-0d8d-44dd-8a0e-f7b38be61b0d",
   "metadata": {},
   "source": [
    "## Final ML model  <a name=\"10\"></a>"
   ]
  },
  {
   "cell_type": "code",
   "execution_count": 23,
   "id": "b8e3ca84-433e-418e-8a3e-8496900a081b",
   "metadata": {},
   "outputs": [
    {
     "name": "stdout",
     "output_type": "stream",
     "text": [
      "Accuracy:  0.815\n",
      "Precision:  0.946\n",
      "Recall:  0.668\n",
      "F1:  0.783\n",
      "ROC:  0.815\n"
     ]
    }
   ],
   "source": [
    "# ML with hyperparameters sugested by the grid search \n",
    "model = GradientBoostingClassifier(max_depth=3)\n",
    "model.fit(X_train, y_train)\n",
    "y_pred = model.predict(X_test)\n",
    "\n",
    "# Evaluation\n",
    "acc = round(accuracy_score(y_test, y_pred),3)\n",
    "print('Accuracy: ', acc)\n",
    "pre = round(precision_score(y_test, y_pred),3)\n",
    "print('Precision: ', pre) \n",
    "rec = round(recall_score(y_test, y_pred),3)\n",
    "print('Recall: ',rec) \n",
    "f1 = round(f1_score(y_test, y_pred),3)\n",
    "print('F1: ', f1) \n",
    "roc = round(roc_auc_score(y_test, y_pred),3) \n",
    "print('ROC: ', roc)"
   ]
  },
  {
   "cell_type": "code",
   "execution_count": 25,
   "id": "2470810a-86d4-4a2a-9a08-61b576b07166",
   "metadata": {},
   "outputs": [
    {
     "name": "stdout",
     "output_type": "stream",
     "text": [
      "Cross-validation scores: [0.796 0.81  0.79  0.788 0.844]\n",
      "Mean cross-validation score: 0.806\n"
     ]
    }
   ],
   "source": [
    "# Perform 5-fold cross-validation\n",
    "scores = cross_val_score(model, X_train, y_train, cv=5, scoring='accuracy')\n",
    "\n",
    "print(\"Cross-validation scores:\", np.round(scores, 3))\n",
    "print(\"Mean cross-validation score:\", np.round(scores.mean(), 3))"
   ]
  },
  {
   "cell_type": "markdown",
   "id": "d081402f-ec56-4d62-935c-4bdf2a7c74c4",
   "metadata": {},
   "source": [
    "[<a href=\"#content\">Back to top</a>]"
   ]
  },
  {
   "cell_type": "markdown",
   "id": "bae4a65f-d030-42af-aed0-271f8e4d096d",
   "metadata": {},
   "source": [
    "## Plot the learning curve and AUC <a name=\"11\"></a>"
   ]
  },
  {
   "cell_type": "code",
   "execution_count": 27,
   "id": "c605d161-6746-4b31-be89-950b67403d63",
   "metadata": {},
   "outputs": [
    {
     "name": "stderr",
     "output_type": "stream",
     "text": [
      "C:\\Users\\ivano\\AppData\\Local\\Programs\\Python\\Python312\\Lib\\site-packages\\sklearn\\model_selection\\_validation.py:528: FitFailedWarning: \n",
      "10 fits failed out of a total of 25.\n",
      "The score on these train-test partitions for these parameters will be set to nan.\n",
      "If these failures are not expected, you can try to debug them by setting error_score='raise'.\n",
      "\n",
      "Below are more details about the failures:\n",
      "--------------------------------------------------------------------------------\n",
      "10 fits failed with the following error:\n",
      "Traceback (most recent call last):\n",
      "  File \"C:\\Users\\ivano\\AppData\\Local\\Programs\\Python\\Python312\\Lib\\site-packages\\sklearn\\model_selection\\_validation.py\", line 866, in _fit_and_score\n",
      "    estimator.fit(X_train, y_train, **fit_params)\n",
      "  File \"C:\\Users\\ivano\\AppData\\Local\\Programs\\Python\\Python312\\Lib\\site-packages\\sklearn\\base.py\", line 1389, in wrapper\n",
      "    return fit_method(estimator, *args, **kwargs)\n",
      "           ^^^^^^^^^^^^^^^^^^^^^^^^^^^^^^^^^^^^^^\n",
      "  File \"C:\\Users\\ivano\\AppData\\Local\\Programs\\Python\\Python312\\Lib\\site-packages\\sklearn\\ensemble\\_gb.py\", line 669, in fit\n",
      "    y = self._encode_y(y=y, sample_weight=None)\n",
      "        ^^^^^^^^^^^^^^^^^^^^^^^^^^^^^^^^^^^^^^^\n",
      "  File \"C:\\Users\\ivano\\AppData\\Local\\Programs\\Python\\Python312\\Lib\\site-packages\\sklearn\\ensemble\\_gb.py\", line 1532, in _encode_y\n",
      "    raise ValueError(\n",
      "ValueError: y contains 1 class after sample_weight trimmed classes with zero weights, while a minimum of 2 classes are required.\n",
      "\n",
      "  warnings.warn(some_fits_failed_message, FitFailedWarning)\n"
     ]
    },
    {
     "data": {
      "image/png": "[encoded data removed]",
      "text/plain": [
       "<Figure size 1000x600 with 1 Axes>"
      ]
     },
     "metadata": {},
     "output_type": "display_data"
    }
   ],
   "source": [
    "from sklearn.model_selection import learning_curve\n",
    "\n",
    "train_sizes, train_scores, test_scores = learning_curve(\n",
    "    model, X_train, y_train, cv=5, scoring='accuracy', n_jobs=-1\n",
    ")\n",
    "\n",
    "train_scores_mean = np.mean(train_scores, axis=1)\n",
    "train_scores_std = np.std(train_scores, axis=1)\n",
    "test_scores_mean = np.mean(test_scores, axis=1)\n",
    "test_scores_std = np.std(test_scores, axis=1)\n",
    "\n",
    "plt.figure(figsize=(10, 6))\n",
    "plt.title(\"Learning Curve\")\n",
    "plt.xlabel(\"Training examples\")\n",
    "plt.ylabel(\"Score\")\n",
    "\n",
    "plt.fill_between(\n",
    "    train_sizes,\n",
    "    train_scores_mean - train_scores_std,\n",
    "    train_scores_mean + train_scores_std,\n",
    "    alpha=0.1,\n",
    "    color=\"r\",\n",
    ")\n",
    "plt.fill_between(\n",
    "    train_sizes,\n",
    "    test_scores_mean - test_scores_std,\n",
    "    test_scores_mean + test_scores_std,\n",
    "    alpha=0.1,\n",
    "    color=\"b\",\n",
    ")\n",
    "plt.plot(train_sizes, train_scores_mean, \"o-\", color=\"r\", label=\"Training score\")\n",
    "plt.plot(train_sizes, test_scores_mean, \"o-\", color=\"b\", label=\"Cross-validation score\")\n",
    "plt.legend(loc=\"best\")\n",
    "plt.show()"
   ]
  },
  {
   "cell_type": "code",
   "execution_count": null,
   "id": "0ee8c0e0-7491-4489-a10c-3816f91bca19",
   "metadata": {},
   "outputs": [],
   "source": [
    "from sklearn.metrics import RocCurveDisplay\n",
    "\n",
    "svc_disp = RocCurveDisplay.from_estimator(model, X_test, y_test)\n",
    "plt.show()"
   ]
  },
  {
   "cell_type": "markdown",
   "id": "eb122e9e-4899-45d1-982b-2c4d349d57b4",
   "metadata": {},
   "source": [
    "[<a href=\"#content\">Back to top</a>]"
   ]
  },
  {
   "cell_type": "markdown",
   "id": "a75aea97-ea81-4969-adb2-208921273686",
   "metadata": {},
   "source": [
    "## Confusion matrix, classification report <a name=\"12\"></a>"
   ]
  },
  {
   "cell_type": "code",
   "execution_count": 28,
   "id": "85674177-42e0-4096-b955-bf5e118746fb",
   "metadata": {},
   "outputs": [
    {
     "data": {
      "image/png": "[encoded data removed]",
      "text/plain": [
       "<Figure size 640x480 with 2 Axes>"
      ]
     },
     "metadata": {},
     "output_type": "display_data"
    }
   ],
   "source": [
    "from sklearn import metrics\n",
    "from sklearn.metrics import confusion_matrix\n",
    "\n",
    "# Random forest classifier prediction\n",
    "predicted = model.fit(X_train, y_train).predict(X_test)\n",
    "\n",
    "# Calculate the confusion matrix\n",
    "confusion_matrix = metrics.confusion_matrix(y_test, predicted)\n",
    "\n",
    "# Display confusion matrix\n",
    "cm_display = metrics.ConfusionMatrixDisplay(confusion_matrix = confusion_matrix, display_labels = [False, True])\n",
    "cm_display.plot()\n",
    "plt.show()"
   ]
  },
  {
   "cell_type": "code",
   "execution_count": 29,
   "id": "e28a162a-6f9b-491d-bc32-fd6039709d64",
   "metadata": {},
   "outputs": [
    {
     "name": "stdout",
     "output_type": "stream",
     "text": [
      "                     precision    recall  f1-score   support\n",
      "\n",
      " Active (target 1)        0.74      0.96      0.84       340\n",
      "Inactive (target 0)       0.95      0.67      0.78       340\n",
      "\n",
      "           accuracy                           0.81       680\n",
      "          macro avg       0.84      0.81      0.81       680\n",
      "       weighted avg       0.84      0.81      0.81       680\n",
      "\n"
     ]
    }
   ],
   "source": [
    "# Classification report \n",
    "from sklearn.metrics import classification_report\n",
    "\n",
    "# Print the classification report \n",
    "target_names = ['Active (target 1) ', 'Inactive (target 0)']\n",
    "print(classification_report(y_test, predicted, target_names=target_names))"
   ]
  },
  {
   "cell_type": "markdown",
   "id": "cef58c80-8c5f-4900-8f12-1f040a5ac1f9",
   "metadata": {},
   "source": [
    "[<a href=\"#content\">Back to top</a>]"
   ]
  }
 ],
 "metadata": {
  "kernelspec": {
   "display_name": "Python 3 (ipykernel)",
   "language": "python",
   "name": "python3"
  },
  "language_info": {
   "codemirror_mode": {
    "name": "ipython",
    "version": 3
   },
   "file_extension": ".py",
   "mimetype": "text/x-python",
   "name": "python",
   "nbconvert_exporter": "python",
   "pygments_lexer": "ipython3",
   "version": "3.12.2"
  }
 },
 "nbformat": 4,
 "nbformat_minor": 5
}
