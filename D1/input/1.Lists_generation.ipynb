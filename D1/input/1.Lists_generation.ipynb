{
 "cells": [
  {
   "cell_type": "markdown",
   "id": "18f6f4f5-a126-4c4f-950b-8cc6ffa916b6",
   "metadata": {},
   "source": [
    "# Generation of the initial list with compounds out of the PubChem bioassay dataset"
   ]
  },
  {
   "cell_type": "markdown",
   "id": "1dcf9d82-657a-4656-b3f3-c8905d770694",
   "metadata": {},
   "source": [
    "### Content   <a name=\"content\"></a>"
   ]
  },
  {
   "cell_type": "markdown",
   "id": "b3551b8d-c497-4ba0-b627-ebcdd8e64a99",
   "metadata": {},
   "source": [
    "1. [Load PubChem BioAssay D1 receptor](#1)\n",
    "2. [Extract the necessary columns and edit data appropriately](#2)\n",
    "3. [Create csv files](#3)"
   ]
  },
  {
   "cell_type": "markdown",
   "id": "4b14090e-b376-4ffb-86be-653a06cb09e0",
   "metadata": {},
   "source": [
    "## Load PubChem BioAssay D1 receptor <a name=\"1\"></a>"
   ]
  },
  {
   "cell_type": "code",
   "execution_count": 1,
   "id": "e72d2861-3f2d-4804-803e-1c60ad3dbaaa",
   "metadata": {},
   "outputs": [
    {
     "name": "stdout",
     "output_type": "stream",
     "text": [
      "Shape of the data frame:  (359035, 10)\n"
     ]
    },
    {
     "data": {
      "text/html": [
       "<div>\n",
       "<style scoped>\n",
       "    .dataframe tbody tr th:only-of-type {\n",
       "        vertical-align: middle;\n",
       "    }\n",
       "\n",
       "    .dataframe tbody tr th {\n",
       "        vertical-align: top;\n",
       "    }\n",
       "\n",
       "    .dataframe thead th {\n",
       "        text-align: right;\n",
       "    }\n",
       "</style>\n",
       "<table border=\"1\" class=\"dataframe\">\n",
       "  <thead>\n",
       "    <tr style=\"text-align: right;\">\n",
       "      <th></th>\n",
       "      <th>PUBCHEM_RESULT_TAG</th>\n",
       "      <th>SID</th>\n",
       "      <th>CID</th>\n",
       "      <th>SMILES</th>\n",
       "      <th>PUBCHEM_ACTIVITY_OUTCOME</th>\n",
       "      <th>PUBCHEM_ACTIVITY_SCORE</th>\n",
       "      <th>PUBCHEM_ACTIVITY_URL</th>\n",
       "      <th>PUBCHEM_ASSAYDATA_COMMENT</th>\n",
       "      <th>Activity at 10.0 uM</th>\n",
       "      <th>Compound QC</th>\n",
       "    </tr>\n",
       "  </thead>\n",
       "  <tbody>\n",
       "    <tr>\n",
       "      <th>0</th>\n",
       "      <td>1</td>\n",
       "      <td>14737807</td>\n",
       "      <td>9551164.0</td>\n",
       "      <td>C1CCC2=C(C1)C3=C(S2)N=C4C(=CC=CN4C3=O)C(=O)NCC...</td>\n",
       "      <td>Active</td>\n",
       "      <td>50</td>\n",
       "      <td>NaN</td>\n",
       "      <td>NaN</td>\n",
       "      <td>-112.471</td>\n",
       "      <td>NaN</td>\n",
       "    </tr>\n",
       "    <tr>\n",
       "      <th>1</th>\n",
       "      <td>2</td>\n",
       "      <td>855827</td>\n",
       "      <td>4917.0</td>\n",
       "      <td>CN1CCN(CC1)CCCN2C3=CC=CC=C3SC4=C2C=C(C=C4)Cl</td>\n",
       "      <td>Active</td>\n",
       "      <td>50</td>\n",
       "      <td>NaN</td>\n",
       "      <td>NaN</td>\n",
       "      <td>-111.528</td>\n",
       "      <td>NaN</td>\n",
       "    </tr>\n",
       "    <tr>\n",
       "      <th>2</th>\n",
       "      <td>3</td>\n",
       "      <td>56463488</td>\n",
       "      <td>4350931.0</td>\n",
       "      <td>CN1CCC2=CC=CC=C2CC3=C(CC1)C4=CC=CC=C4N3</td>\n",
       "      <td>Active</td>\n",
       "      <td>50</td>\n",
       "      <td>NaN</td>\n",
       "      <td>NaN</td>\n",
       "      <td>-106.814</td>\n",
       "      <td>NaN</td>\n",
       "    </tr>\n",
       "    <tr>\n",
       "      <th>3</th>\n",
       "      <td>4</td>\n",
       "      <td>56463458</td>\n",
       "      <td>11957685.0</td>\n",
       "      <td>CC1=CC(=CC=C1)C2CN(CCC3=C(C(=C(C=C23)O)O)Cl)C.Br</td>\n",
       "      <td>Active</td>\n",
       "      <td>50</td>\n",
       "      <td>NaN</td>\n",
       "      <td>NaN</td>\n",
       "      <td>-106.293</td>\n",
       "      <td>NaN</td>\n",
       "    </tr>\n",
       "    <tr>\n",
       "      <th>4</th>\n",
       "      <td>5</td>\n",
       "      <td>855962</td>\n",
       "      <td>6602611.0</td>\n",
       "      <td>C1CN(CCN1CCCN2C3=CC=CC=C3SC4=C2C=C(C=C4)C(F)(F...</td>\n",
       "      <td>Active</td>\n",
       "      <td>50</td>\n",
       "      <td>NaN</td>\n",
       "      <td>NaN</td>\n",
       "      <td>-106.287</td>\n",
       "      <td>NaN</td>\n",
       "    </tr>\n",
       "  </tbody>\n",
       "</table>\n",
       "</div>"
      ],
      "text/plain": [
       "   PUBCHEM_RESULT_TAG       SID         CID  \\\n",
       "0                   1  14737807   9551164.0   \n",
       "1                   2    855827      4917.0   \n",
       "2                   3  56463488   4350931.0   \n",
       "3                   4  56463458  11957685.0   \n",
       "4                   5    855962   6602611.0   \n",
       "\n",
       "                                              SMILES PUBCHEM_ACTIVITY_OUTCOME  \\\n",
       "0  C1CCC2=C(C1)C3=C(S2)N=C4C(=CC=CN4C3=O)C(=O)NCC...                   Active   \n",
       "1       CN1CCN(CC1)CCCN2C3=CC=CC=C3SC4=C2C=C(C=C4)Cl                   Active   \n",
       "2            CN1CCC2=CC=CC=C2CC3=C(CC1)C4=CC=CC=C4N3                   Active   \n",
       "3   CC1=CC(=CC=C1)C2CN(CCC3=C(C(=C(C=C23)O)O)Cl)C.Br                   Active   \n",
       "4  C1CN(CCN1CCCN2C3=CC=CC=C3SC4=C2C=C(C=C4)C(F)(F...                   Active   \n",
       "\n",
       "   PUBCHEM_ACTIVITY_SCORE  PUBCHEM_ACTIVITY_URL  PUBCHEM_ASSAYDATA_COMMENT  \\\n",
       "0                      50                   NaN                        NaN   \n",
       "1                      50                   NaN                        NaN   \n",
       "2                      50                   NaN                        NaN   \n",
       "3                      50                   NaN                        NaN   \n",
       "4                      50                   NaN                        NaN   \n",
       "\n",
       "   Activity at 10.0 uM  Compound QC  \n",
       "0             -112.471          NaN  \n",
       "1             -111.528          NaN  \n",
       "2             -106.814          NaN  \n",
       "3             -106.293          NaN  \n",
       "4             -106.287          NaN  "
      ]
     },
     "execution_count": 1,
     "metadata": {},
     "output_type": "execute_result"
    }
   ],
   "source": [
    "import pandas as pd \n",
    "\n",
    "# load the BioAssay PubChem AID 504652 dataset\n",
    "# https://pubchem.ncbi.nlm.nih.gov/bioassay/504652\n",
    "df_d1 = pd.read_csv('bioassy_PubChem_D1.csv')\n",
    "\n",
    "# To avoid truncation of some columns during data frame display\n",
    "pd.set_option('display.max_columns', None) \n",
    "\n",
    "# Display the data frame\n",
    "print('Shape of the data frame: ', df_d1.shape)\n",
    "\n",
    "df_d1.head()"
   ]
  },
  {
   "cell_type": "code",
   "execution_count": 2,
   "id": "f1f3eb32-ed9f-41c1-9af1-1f221c4a7e48",
   "metadata": {},
   "outputs": [
    {
     "name": "stdout",
     "output_type": "stream",
     "text": [
      "<class 'pandas.core.frame.DataFrame'>\n",
      "RangeIndex: 359035 entries, 0 to 359034\n",
      "Data columns (total 10 columns):\n",
      " #   Column                     Non-Null Count   Dtype  \n",
      "---  ------                     --------------   -----  \n",
      " 0   PUBCHEM_RESULT_TAG         359035 non-null  int64  \n",
      " 1   SID                        359035 non-null  int64  \n",
      " 2   CID                        359034 non-null  float64\n",
      " 3   SMILES                     359034 non-null  object \n",
      " 4   PUBCHEM_ACTIVITY_OUTCOME   359035 non-null  object \n",
      " 5   PUBCHEM_ACTIVITY_SCORE     359035 non-null  int64  \n",
      " 6   PUBCHEM_ACTIVITY_URL       0 non-null       float64\n",
      " 7   PUBCHEM_ASSAYDATA_COMMENT  0 non-null       float64\n",
      " 8   Activity at 10.0 uM        359035 non-null  float64\n",
      " 9   Compound QC                0 non-null       float64\n",
      "dtypes: float64(5), int64(3), object(2)\n",
      "memory usage: 27.4+ MB\n"
     ]
    }
   ],
   "source": [
    "df_d1.info()"
   ]
  },
  {
   "cell_type": "code",
   "execution_count": 3,
   "id": "dd9b495c-dd4b-4c61-8755-386c0f7cacd1",
   "metadata": {},
   "outputs": [
    {
     "data": {
      "text/plain": [
       "(359035, 10)"
      ]
     },
     "execution_count": 3,
     "metadata": {},
     "output_type": "execute_result"
    }
   ],
   "source": [
    "# Remove duplicates in general\n",
    "df_d1.drop_duplicates()\n",
    "df_d1.shape  # 359,035 means no duplicates"
   ]
  },
  {
   "cell_type": "code",
   "execution_count": 4,
   "id": "8185eb78-66e5-4f20-acb4-4189888f2017",
   "metadata": {},
   "outputs": [
    {
     "data": {
      "text/plain": [
       "(352589, 10)"
      ]
     },
     "execution_count": 4,
     "metadata": {},
     "output_type": "execute_result"
    }
   ],
   "source": [
    "# Remove duplicates in CIDs \n",
    "df_d1 = df_d1.drop_duplicates(subset=['CID'], keep=False) \n",
    "df_d1.shape  # 6,446 are duplicates "
   ]
  },
  {
   "cell_type": "code",
   "execution_count": 5,
   "id": "64c2bfe8-8d09-4148-aeef-f1615c1d950d",
   "metadata": {},
   "outputs": [
    {
     "data": {
      "text/plain": [
       "(352588, 10)"
      ]
     },
     "execution_count": 5,
     "metadata": {},
     "output_type": "execute_result"
    }
   ],
   "source": [
    "# Remove the compounds missing CID-s\n",
    "df_d1 = df_d1[df_d1['CID'].notna()]\n",
    "df_d1.shape"
   ]
  },
  {
   "cell_type": "code",
   "execution_count": 6,
   "id": "e67c3e3b-171c-4b5d-a3f0-be00cbbeb8d2",
   "metadata": {},
   "outputs": [
    {
     "name": "stdout",
     "output_type": "stream",
     "text": [
      "<class 'pandas.core.frame.DataFrame'>\n",
      "Index: 352588 entries, 0 to 359034\n",
      "Data columns (total 10 columns):\n",
      " #   Column                     Non-Null Count   Dtype  \n",
      "---  ------                     --------------   -----  \n",
      " 0   PUBCHEM_RESULT_TAG         352588 non-null  int64  \n",
      " 1   SID                        352588 non-null  int64  \n",
      " 2   CID                        352588 non-null  int32  \n",
      " 3   SMILES                     352588 non-null  object \n",
      " 4   PUBCHEM_ACTIVITY_OUTCOME   352588 non-null  object \n",
      " 5   PUBCHEM_ACTIVITY_SCORE     352588 non-null  int64  \n",
      " 6   PUBCHEM_ACTIVITY_URL       0 non-null       float64\n",
      " 7   PUBCHEM_ASSAYDATA_COMMENT  0 non-null       float64\n",
      " 8   Activity at 10.0 uM        352588 non-null  float64\n",
      " 9   Compound QC                0 non-null       float64\n",
      "dtypes: float64(4), int32(1), int64(3), object(2)\n",
      "memory usage: 28.2+ MB\n"
     ]
    }
   ],
   "source": [
    "# Turn CID float data type into integer\n",
    "df_d1['CID'] = df_d1['CID'].astype(int) \n",
    "df_d1.info()"
   ]
  },
  {
   "cell_type": "code",
   "execution_count": 7,
   "id": "8b7fe85d",
   "metadata": {},
   "outputs": [
    {
     "data": {
      "text/plain": [
       "False"
      ]
     },
     "execution_count": 7,
     "metadata": {},
     "output_type": "execute_result"
    }
   ],
   "source": [
    "# Check for isomers , i.e. same CIDs but different SIDs  \n",
    "boolean = not df_d1[\"CID\"].is_unique \n",
    "boolean"
   ]
  },
  {
   "cell_type": "markdown",
   "id": "715afd49-1ddd-43d8-b2a1-24e1f2ad4269",
   "metadata": {},
   "source": [
    "[<a href=\"#content\">Back to top</a>]"
   ]
  },
  {
   "cell_type": "markdown",
   "id": "b3ab0d3e-bb1e-49db-afe9-c05c74dc7ccc",
   "metadata": {},
   "source": [
    "## Extract the necessary columns and edit data appropriately <a name=\"2\"></a>"
   ]
  },
  {
   "cell_type": "code",
   "execution_count": 8,
   "id": "4e2e5f3b",
   "metadata": {},
   "outputs": [
    {
     "data": {
      "text/html": [
       "<div>\n",
       "<style scoped>\n",
       "    .dataframe tbody tr th:only-of-type {\n",
       "        vertical-align: middle;\n",
       "    }\n",
       "\n",
       "    .dataframe tbody tr th {\n",
       "        vertical-align: top;\n",
       "    }\n",
       "\n",
       "    .dataframe thead th {\n",
       "        text-align: right;\n",
       "    }\n",
       "</style>\n",
       "<table border=\"1\" class=\"dataframe\">\n",
       "  <thead>\n",
       "    <tr style=\"text-align: right;\">\n",
       "      <th></th>\n",
       "      <th>CID</th>\n",
       "      <th>SMILES</th>\n",
       "      <th>PUBCHEM_ACTIVITY_OUTCOME</th>\n",
       "    </tr>\n",
       "  </thead>\n",
       "  <tbody>\n",
       "    <tr>\n",
       "      <th>0</th>\n",
       "      <td>9551164</td>\n",
       "      <td>C1CCC2=C(C1)C3=C(S2)N=C4C(=CC=CN4C3=O)C(=O)NCC...</td>\n",
       "      <td>Active</td>\n",
       "    </tr>\n",
       "    <tr>\n",
       "      <th>1</th>\n",
       "      <td>4917</td>\n",
       "      <td>CN1CCN(CC1)CCCN2C3=CC=CC=C3SC4=C2C=C(C=C4)Cl</td>\n",
       "      <td>Active</td>\n",
       "    </tr>\n",
       "    <tr>\n",
       "      <th>2</th>\n",
       "      <td>4350931</td>\n",
       "      <td>CN1CCC2=CC=CC=C2CC3=C(CC1)C4=CC=CC=C4N3</td>\n",
       "      <td>Active</td>\n",
       "    </tr>\n",
       "    <tr>\n",
       "      <th>3</th>\n",
       "      <td>11957685</td>\n",
       "      <td>CC1=CC(=CC=C1)C2CN(CCC3=C(C(=C(C=C23)O)O)Cl)C.Br</td>\n",
       "      <td>Active</td>\n",
       "    </tr>\n",
       "    <tr>\n",
       "      <th>4</th>\n",
       "      <td>6602611</td>\n",
       "      <td>C1CN(CCN1CCCN2C3=CC=CC=C3SC4=C2C=C(C=C4)C(F)(F...</td>\n",
       "      <td>Active</td>\n",
       "    </tr>\n",
       "  </tbody>\n",
       "</table>\n",
       "</div>"
      ],
      "text/plain": [
       "        CID                                             SMILES  \\\n",
       "0   9551164  C1CCC2=C(C1)C3=C(S2)N=C4C(=CC=CN4C3=O)C(=O)NCC...   \n",
       "1      4917       CN1CCN(CC1)CCCN2C3=CC=CC=C3SC4=C2C=C(C=C4)Cl   \n",
       "2   4350931            CN1CCC2=CC=CC=C2CC3=C(CC1)C4=CC=CC=C4N3   \n",
       "3  11957685   CC1=CC(=CC=C1)C2CN(CCC3=C(C(=C(C=C23)O)O)Cl)C.Br   \n",
       "4   6602611  C1CN(CCN1CCCN2C3=CC=CC=C3SC4=C2C=C(C=C4)C(F)(F...   \n",
       "\n",
       "  PUBCHEM_ACTIVITY_OUTCOME  \n",
       "0                   Active  \n",
       "1                   Active  \n",
       "2                   Active  \n",
       "3                   Active  \n",
       "4                   Active  "
      ]
     },
     "execution_count": 8,
     "metadata": {},
     "output_type": "execute_result"
    }
   ],
   "source": [
    "df_target = df_d1 [['CID', 'SMILES', 'PUBCHEM_ACTIVITY_OUTCOME']]\n",
    "df_target.head()"
   ]
  },
  {
   "cell_type": "code",
   "execution_count": 9,
   "id": "4ee49221",
   "metadata": {},
   "outputs": [
    {
     "data": {
      "text/plain": [
       "PUBCHEM_ACTIVITY_OUTCOME\n",
       "Inactive    341362\n",
       "Active       11226\n",
       "Name: count, dtype: int64"
      ]
     },
     "execution_count": 9,
     "metadata": {},
     "output_type": "execute_result"
    }
   ],
   "source": [
    "# Counting of values in column PUBCHEM_ACTIVITY_OUTCOME\n",
    "df_target['PUBCHEM_ACTIVITY_OUTCOME'].value_counts()"
   ]
  },
  {
   "cell_type": "code",
   "execution_count": 10,
   "id": "55d81376",
   "metadata": {},
   "outputs": [
    {
     "data": {
      "text/plain": [
       "array([1, 0], dtype=int64)"
      ]
     },
     "execution_count": 10,
     "metadata": {},
     "output_type": "execute_result"
    }
   ],
   "source": [
    "# Set the binary targets to \"1\" for an active inhibitors and \"0\" for others \n",
    "df_target = df_target.copy()\n",
    "\n",
    "# Create a dictionary\n",
    "target = {'Active' : 1,\n",
    "          'Inactive' : 0}\n",
    "\n",
    "# Replace the names with binary values set up in the dictionary targets\n",
    "df_target.PUBCHEM_ACTIVITY_OUTCOME = [target[item] for item in df_target.PUBCHEM_ACTIVITY_OUTCOME]\n",
    "\n",
    "# Rename \"unique combination\" into \"target\"\n",
    "df_target = df_target.rename(columns={'PUBCHEM_ACTIVITY_OUTCOME': 'target'})\n",
    "\n",
    "# Check how many unique values there are in the 'target' column\n",
    "df_target['target'].unique()"
   ]
  },
  {
   "cell_type": "code",
   "execution_count": 11,
   "id": "d5974392",
   "metadata": {},
   "outputs": [
    {
     "name": "stdout",
     "output_type": "stream",
     "text": [
      "Shape of df_target_1:  (11226, 3)\n"
     ]
    },
    {
     "data": {
      "text/html": [
       "<div>\n",
       "<style scoped>\n",
       "    .dataframe tbody tr th:only-of-type {\n",
       "        vertical-align: middle;\n",
       "    }\n",
       "\n",
       "    .dataframe tbody tr th {\n",
       "        vertical-align: top;\n",
       "    }\n",
       "\n",
       "    .dataframe thead th {\n",
       "        text-align: right;\n",
       "    }\n",
       "</style>\n",
       "<table border=\"1\" class=\"dataframe\">\n",
       "  <thead>\n",
       "    <tr style=\"text-align: right;\">\n",
       "      <th></th>\n",
       "      <th>CID</th>\n",
       "      <th>SMILES</th>\n",
       "      <th>target</th>\n",
       "    </tr>\n",
       "  </thead>\n",
       "  <tbody>\n",
       "    <tr>\n",
       "      <th>0</th>\n",
       "      <td>9551164</td>\n",
       "      <td>C1CCC2=C(C1)C3=C(S2)N=C4C(=CC=CN4C3=O)C(=O)NCC...</td>\n",
       "      <td>1</td>\n",
       "    </tr>\n",
       "    <tr>\n",
       "      <th>1</th>\n",
       "      <td>4917</td>\n",
       "      <td>CN1CCN(CC1)CCCN2C3=CC=CC=C3SC4=C2C=C(C=C4)Cl</td>\n",
       "      <td>1</td>\n",
       "    </tr>\n",
       "    <tr>\n",
       "      <th>2</th>\n",
       "      <td>4350931</td>\n",
       "      <td>CN1CCC2=CC=CC=C2CC3=C(CC1)C4=CC=CC=C4N3</td>\n",
       "      <td>1</td>\n",
       "    </tr>\n",
       "    <tr>\n",
       "      <th>3</th>\n",
       "      <td>11957685</td>\n",
       "      <td>CC1=CC(=CC=C1)C2CN(CCC3=C(C(=C(C=C23)O)O)Cl)C.Br</td>\n",
       "      <td>1</td>\n",
       "    </tr>\n",
       "    <tr>\n",
       "      <th>4</th>\n",
       "      <td>6602611</td>\n",
       "      <td>C1CN(CCN1CCCN2C3=CC=CC=C3SC4=C2C=C(C=C4)C(F)(F...</td>\n",
       "      <td>1</td>\n",
       "    </tr>\n",
       "  </tbody>\n",
       "</table>\n",
       "</div>"
      ],
      "text/plain": [
       "        CID                                             SMILES  target\n",
       "0   9551164  C1CCC2=C(C1)C3=C(S2)N=C4C(=CC=CN4C3=O)C(=O)NCC...       1\n",
       "1      4917       CN1CCN(CC1)CCCN2C3=CC=CC=C3SC4=C2C=C(C=C4)Cl       1\n",
       "2   4350931            CN1CCC2=CC=CC=C2CC3=C(CC1)C4=CC=CC=C4N3       1\n",
       "3  11957685   CC1=CC(=CC=C1)C2CN(CCC3=C(C(=C(C=C23)O)O)Cl)C.Br       1\n",
       "4   6602611  C1CN(CCN1CCCN2C3=CC=CC=C3SC4=C2C=C(C=C4)C(F)(F...       1"
      ]
     },
     "execution_count": 11,
     "metadata": {},
     "output_type": "execute_result"
    }
   ],
   "source": [
    "# Create a data set only with compounds that are active inhibitors \n",
    "df_target_1 = df_target[df_target['target']==1]\n",
    "\n",
    "# Display the data set from 10 samples of active inhibitors \n",
    "print('Shape of df_target_1: ', df_target_1.shape)\n",
    "df_target_1.head()"
   ]
  },
  {
   "cell_type": "code",
   "execution_count": 12,
   "id": "466c9e73-6d06-4dd1-9814-4c7b8b1c8d9c",
   "metadata": {},
   "outputs": [
    {
     "name": "stdout",
     "output_type": "stream",
     "text": [
      "Shape of df_solubility:  (57859, 30)\n"
     ]
    },
    {
     "data": {
      "text/html": [
       "<div>\n",
       "<style scoped>\n",
       "    .dataframe tbody tr th:only-of-type {\n",
       "        vertical-align: middle;\n",
       "    }\n",
       "\n",
       "    .dataframe tbody tr th {\n",
       "        vertical-align: top;\n",
       "    }\n",
       "\n",
       "    .dataframe thead th {\n",
       "        text-align: right;\n",
       "    }\n",
       "</style>\n",
       "<table border=\"1\" class=\"dataframe\">\n",
       "  <thead>\n",
       "    <tr style=\"text-align: right;\">\n",
       "      <th></th>\n",
       "      <th>PUBCHEM_RESULT_TAG</th>\n",
       "      <th>SID</th>\n",
       "      <th>CID</th>\n",
       "      <th>PUBCHEM_EXT_DATASOURCE_SMILES</th>\n",
       "      <th>OUTCOME</th>\n",
       "      <th>PUBCHEM_ACTIVITY_SCORE</th>\n",
       "      <th>PUBCHEM_ACTIVITY_URL</th>\n",
       "      <th>PUBCHEM_ASSAYDATA_COMMENT</th>\n",
       "      <th>Solubility at pH 7.4_Qualifier_Mean</th>\n",
       "      <th>Solubility at pH 7.4_Mean</th>\n",
       "      <th>Test Concentration_1</th>\n",
       "      <th>Solubility at pH 7.4_Qualifier_1</th>\n",
       "      <th>Solubility at pH 7.4_1</th>\n",
       "      <th>Solubility at pH 7.4_Comment_1</th>\n",
       "      <th>Solubility of Astemizole at pH 7.4_Qualifier_1</th>\n",
       "      <th>Solubility of Astemizole at pH 7.4_1</th>\n",
       "      <th>Solubility of Sulfamethizole at pH 7.4_Qualifier_1</th>\n",
       "      <th>Solubility of Sulfamethizole at pH 7.4_1</th>\n",
       "      <th>Solubility of Imipramine HCl at pH 7.4_Qualifier_1</th>\n",
       "      <th>Solubility of Imipramine HCl at pH 7.4_1</th>\n",
       "      <th>Test Concentration_2</th>\n",
       "      <th>Solubility at pH 7.4_Qualifier_2</th>\n",
       "      <th>Solubility at pH 7.4_2</th>\n",
       "      <th>Solubility at pH 7.4_Comment_2</th>\n",
       "      <th>Solubility of Astemizole at pH 7.4_Qualifier_2</th>\n",
       "      <th>Solubility of Astemizole at pH 7.4_2</th>\n",
       "      <th>Solubility of Sulfamethizole at pH 7.4_Qualifier_2</th>\n",
       "      <th>Solubility of Sulfamethizole at pH 7.4_2</th>\n",
       "      <th>Solubility of Imipramine HCl at pH 7.4_Qualifier_2</th>\n",
       "      <th>Solubility of Imipramine HCl at pH 7.4_2</th>\n",
       "    </tr>\n",
       "  </thead>\n",
       "  <tbody>\n",
       "    <tr>\n",
       "      <th>0</th>\n",
       "      <td>1</td>\n",
       "      <td>24826444</td>\n",
       "      <td>2374148</td>\n",
       "      <td>COC1=CC=C(C=C1)OCC2=NNC(=S)N2N</td>\n",
       "      <td>Active</td>\n",
       "      <td>40</td>\n",
       "      <td>NaN</td>\n",
       "      <td>NaN</td>\n",
       "      <td>=</td>\n",
       "      <td>10.85</td>\n",
       "      <td>200</td>\n",
       "      <td>&lt;</td>\n",
       "      <td>0.1</td>\n",
       "      <td>Below LOQ</td>\n",
       "      <td>=</td>\n",
       "      <td>14.2</td>\n",
       "      <td>&gt;</td>\n",
       "      <td>40.5</td>\n",
       "      <td>&gt;</td>\n",
       "      <td>47.5</td>\n",
       "      <td>200.0</td>\n",
       "      <td>=</td>\n",
       "      <td>21.6</td>\n",
       "      <td>NaN</td>\n",
       "      <td>=</td>\n",
       "      <td>27.7</td>\n",
       "      <td>&gt;</td>\n",
       "      <td>40.5</td>\n",
       "      <td>&gt;</td>\n",
       "      <td>47.5</td>\n",
       "    </tr>\n",
       "    <tr>\n",
       "      <th>1</th>\n",
       "      <td>2</td>\n",
       "      <td>49669186</td>\n",
       "      <td>5295761</td>\n",
       "      <td>CC1=CC(=C(C=C1)NC2=NC3=CC=CC=C3N4C2=NN=C4)Cl</td>\n",
       "      <td>Inactive</td>\n",
       "      <td>0</td>\n",
       "      <td>NaN</td>\n",
       "      <td>NaN</td>\n",
       "      <td>&lt;</td>\n",
       "      <td>0.10</td>\n",
       "      <td>200</td>\n",
       "      <td>&lt;</td>\n",
       "      <td>0.1</td>\n",
       "      <td>Below LOQ</td>\n",
       "      <td>=</td>\n",
       "      <td>12.3</td>\n",
       "      <td>&gt;</td>\n",
       "      <td>40.5</td>\n",
       "      <td>&gt;</td>\n",
       "      <td>47.5</td>\n",
       "      <td>NaN</td>\n",
       "      <td>NaN</td>\n",
       "      <td>NaN</td>\n",
       "      <td>NaN</td>\n",
       "      <td>NaN</td>\n",
       "      <td>NaN</td>\n",
       "      <td>NaN</td>\n",
       "      <td>NaN</td>\n",
       "      <td>NaN</td>\n",
       "      <td>NaN</td>\n",
       "    </tr>\n",
       "    <tr>\n",
       "      <th>2</th>\n",
       "      <td>3</td>\n",
       "      <td>49669768</td>\n",
       "      <td>22431387</td>\n",
       "      <td>CC1=CC(=CC=C1)CCNC2=NC3=C(C=C(C=C3)C)N4C2=NN=C4</td>\n",
       "      <td>Inactive</td>\n",
       "      <td>0</td>\n",
       "      <td>NaN</td>\n",
       "      <td>NaN</td>\n",
       "      <td>&lt;</td>\n",
       "      <td>0.10</td>\n",
       "      <td>200</td>\n",
       "      <td>&lt;</td>\n",
       "      <td>0.1</td>\n",
       "      <td>Below LOQ</td>\n",
       "      <td>=</td>\n",
       "      <td>12.3</td>\n",
       "      <td>&gt;</td>\n",
       "      <td>40.5</td>\n",
       "      <td>&gt;</td>\n",
       "      <td>47.5</td>\n",
       "      <td>NaN</td>\n",
       "      <td>NaN</td>\n",
       "      <td>NaN</td>\n",
       "      <td>NaN</td>\n",
       "      <td>NaN</td>\n",
       "      <td>NaN</td>\n",
       "      <td>NaN</td>\n",
       "      <td>NaN</td>\n",
       "      <td>NaN</td>\n",
       "      <td>NaN</td>\n",
       "    </tr>\n",
       "    <tr>\n",
       "      <th>3</th>\n",
       "      <td>4</td>\n",
       "      <td>8139962</td>\n",
       "      <td>14296</td>\n",
       "      <td>CC1=C(N=C(C(=N1)C)C)C</td>\n",
       "      <td>Inactive</td>\n",
       "      <td>0</td>\n",
       "      <td>NaN</td>\n",
       "      <td>NaN</td>\n",
       "      <td>&lt;</td>\n",
       "      <td>0.10</td>\n",
       "      <td>200</td>\n",
       "      <td>&lt;</td>\n",
       "      <td>0.1</td>\n",
       "      <td>Below LOQ</td>\n",
       "      <td>=</td>\n",
       "      <td>11.4</td>\n",
       "      <td>&gt;</td>\n",
       "      <td>40.5</td>\n",
       "      <td>&gt;</td>\n",
       "      <td>47.5</td>\n",
       "      <td>NaN</td>\n",
       "      <td>NaN</td>\n",
       "      <td>NaN</td>\n",
       "      <td>NaN</td>\n",
       "      <td>NaN</td>\n",
       "      <td>NaN</td>\n",
       "      <td>NaN</td>\n",
       "      <td>NaN</td>\n",
       "      <td>NaN</td>\n",
       "      <td>NaN</td>\n",
       "    </tr>\n",
       "    <tr>\n",
       "      <th>4</th>\n",
       "      <td>5</td>\n",
       "      <td>24803435</td>\n",
       "      <td>865684</td>\n",
       "      <td>CC1=CC2=NC(=C(C=C2C=C1)C#N)NC3=CC=CC=C3OC</td>\n",
       "      <td>Inactive</td>\n",
       "      <td>0</td>\n",
       "      <td>NaN</td>\n",
       "      <td>NaN</td>\n",
       "      <td>&lt;</td>\n",
       "      <td>0.20</td>\n",
       "      <td>200</td>\n",
       "      <td>&lt;</td>\n",
       "      <td>0.2</td>\n",
       "      <td>Below LOQ</td>\n",
       "      <td>=</td>\n",
       "      <td>11.4</td>\n",
       "      <td>&gt;</td>\n",
       "      <td>40.5</td>\n",
       "      <td>&gt;</td>\n",
       "      <td>47.5</td>\n",
       "      <td>NaN</td>\n",
       "      <td>NaN</td>\n",
       "      <td>NaN</td>\n",
       "      <td>NaN</td>\n",
       "      <td>NaN</td>\n",
       "      <td>NaN</td>\n",
       "      <td>NaN</td>\n",
       "      <td>NaN</td>\n",
       "      <td>NaN</td>\n",
       "      <td>NaN</td>\n",
       "    </tr>\n",
       "  </tbody>\n",
       "</table>\n",
       "</div>"
      ],
      "text/plain": [
       "   PUBCHEM_RESULT_TAG       SID       CID  \\\n",
       "0                   1  24826444   2374148   \n",
       "1                   2  49669186   5295761   \n",
       "2                   3  49669768  22431387   \n",
       "3                   4   8139962     14296   \n",
       "4                   5  24803435    865684   \n",
       "\n",
       "                     PUBCHEM_EXT_DATASOURCE_SMILES   OUTCOME  \\\n",
       "0                   COC1=CC=C(C=C1)OCC2=NNC(=S)N2N    Active   \n",
       "1     CC1=CC(=C(C=C1)NC2=NC3=CC=CC=C3N4C2=NN=C4)Cl  Inactive   \n",
       "2  CC1=CC(=CC=C1)CCNC2=NC3=C(C=C(C=C3)C)N4C2=NN=C4  Inactive   \n",
       "3                            CC1=C(N=C(C(=N1)C)C)C  Inactive   \n",
       "4        CC1=CC2=NC(=C(C=C2C=C1)C#N)NC3=CC=CC=C3OC  Inactive   \n",
       "\n",
       "   PUBCHEM_ACTIVITY_SCORE  PUBCHEM_ACTIVITY_URL  PUBCHEM_ASSAYDATA_COMMENT  \\\n",
       "0                      40                   NaN                        NaN   \n",
       "1                       0                   NaN                        NaN   \n",
       "2                       0                   NaN                        NaN   \n",
       "3                       0                   NaN                        NaN   \n",
       "4                       0                   NaN                        NaN   \n",
       "\n",
       "  Solubility at pH 7.4_Qualifier_Mean  Solubility at pH 7.4_Mean  \\\n",
       "0                                   =                      10.85   \n",
       "1                                   <                       0.10   \n",
       "2                                   <                       0.10   \n",
       "3                                   <                       0.10   \n",
       "4                                   <                       0.20   \n",
       "\n",
       "   Test Concentration_1 Solubility at pH 7.4_Qualifier_1  \\\n",
       "0                   200                                <   \n",
       "1                   200                                <   \n",
       "2                   200                                <   \n",
       "3                   200                                <   \n",
       "4                   200                                <   \n",
       "\n",
       "   Solubility at pH 7.4_1 Solubility at pH 7.4_Comment_1  \\\n",
       "0                     0.1                      Below LOQ   \n",
       "1                     0.1                      Below LOQ   \n",
       "2                     0.1                      Below LOQ   \n",
       "3                     0.1                      Below LOQ   \n",
       "4                     0.2                      Below LOQ   \n",
       "\n",
       "  Solubility of Astemizole at pH 7.4_Qualifier_1  \\\n",
       "0                                              =   \n",
       "1                                              =   \n",
       "2                                              =   \n",
       "3                                              =   \n",
       "4                                              =   \n",
       "\n",
       "   Solubility of Astemizole at pH 7.4_1  \\\n",
       "0                                  14.2   \n",
       "1                                  12.3   \n",
       "2                                  12.3   \n",
       "3                                  11.4   \n",
       "4                                  11.4   \n",
       "\n",
       "  Solubility of Sulfamethizole at pH 7.4_Qualifier_1  \\\n",
       "0                                                  >   \n",
       "1                                                  >   \n",
       "2                                                  >   \n",
       "3                                                  >   \n",
       "4                                                  >   \n",
       "\n",
       "   Solubility of Sulfamethizole at pH 7.4_1  \\\n",
       "0                                      40.5   \n",
       "1                                      40.5   \n",
       "2                                      40.5   \n",
       "3                                      40.5   \n",
       "4                                      40.5   \n",
       "\n",
       "  Solubility of Imipramine HCl at pH 7.4_Qualifier_1  \\\n",
       "0                                                  >   \n",
       "1                                                  >   \n",
       "2                                                  >   \n",
       "3                                                  >   \n",
       "4                                                  >   \n",
       "\n",
       "   Solubility of Imipramine HCl at pH 7.4_1  Test Concentration_2  \\\n",
       "0                                      47.5                 200.0   \n",
       "1                                      47.5                   NaN   \n",
       "2                                      47.5                   NaN   \n",
       "3                                      47.5                   NaN   \n",
       "4                                      47.5                   NaN   \n",
       "\n",
       "  Solubility at pH 7.4_Qualifier_2  Solubility at pH 7.4_2  \\\n",
       "0                                =                    21.6   \n",
       "1                              NaN                     NaN   \n",
       "2                              NaN                     NaN   \n",
       "3                              NaN                     NaN   \n",
       "4                              NaN                     NaN   \n",
       "\n",
       "  Solubility at pH 7.4_Comment_2  \\\n",
       "0                            NaN   \n",
       "1                            NaN   \n",
       "2                            NaN   \n",
       "3                            NaN   \n",
       "4                            NaN   \n",
       "\n",
       "  Solubility of Astemizole at pH 7.4_Qualifier_2  \\\n",
       "0                                              =   \n",
       "1                                            NaN   \n",
       "2                                            NaN   \n",
       "3                                            NaN   \n",
       "4                                            NaN   \n",
       "\n",
       "   Solubility of Astemizole at pH 7.4_2  \\\n",
       "0                                  27.7   \n",
       "1                                   NaN   \n",
       "2                                   NaN   \n",
       "3                                   NaN   \n",
       "4                                   NaN   \n",
       "\n",
       "  Solubility of Sulfamethizole at pH 7.4_Qualifier_2  \\\n",
       "0                                                  >   \n",
       "1                                                NaN   \n",
       "2                                                NaN   \n",
       "3                                                NaN   \n",
       "4                                                NaN   \n",
       "\n",
       "   Solubility of Sulfamethizole at pH 7.4_2  \\\n",
       "0                                      40.5   \n",
       "1                                       NaN   \n",
       "2                                       NaN   \n",
       "3                                       NaN   \n",
       "4                                       NaN   \n",
       "\n",
       "  Solubility of Imipramine HCl at pH 7.4_Qualifier_2  \\\n",
       "0                                                  >   \n",
       "1                                                NaN   \n",
       "2                                                NaN   \n",
       "3                                                NaN   \n",
       "4                                                NaN   \n",
       "\n",
       "   Solubility of Imipramine HCl at pH 7.4_2  \n",
       "0                                      47.5  \n",
       "1                                       NaN  \n",
       "2                                       NaN  \n",
       "3                                       NaN  \n",
       "4                                       NaN  "
      ]
     },
     "execution_count": 12,
     "metadata": {},
     "output_type": "execute_result"
    }
   ],
   "source": [
    "# Load data from PubChem BioAssay AID 1996 \n",
    "# https://pubchem.ncbi.nlm.nih.gov/bioassay/1996\n",
    "df_solubility = pd.read_csv('pubchem_solubility.csv')\n",
    "\n",
    "# Display the data frame\n",
    "print('Shape of df_solubility: ', df_solubility.shape)\n",
    "df_solubility.head()"
   ]
  },
  {
   "cell_type": "code",
   "execution_count": 13,
   "id": "d52f05e6-6394-44c8-879c-9bc2410d2614",
   "metadata": {},
   "outputs": [],
   "source": [
    "# Create the desired data frame with CID and SID for sifting \n",
    "df_solubility = df_solubility[ 'CID']"
   ]
  },
  {
   "cell_type": "code",
   "execution_count": 14,
   "id": "05463cf3-2087-48b2-8be2-969a11877680",
   "metadata": {},
   "outputs": [],
   "source": [
    "# Sift the main data frame with targets using the solubility data frame \n",
    "df = pd.merge(df_target, df_solubility, on=\"CID\")"
   ]
  },
  {
   "cell_type": "code",
   "execution_count": 15,
   "id": "54c37dfe-7fac-4aa9-8cba-667d0b00e972",
   "metadata": {},
   "outputs": [
    {
     "data": {
      "text/plain": [
       "target\n",
       "0    48382\n",
       "1     1362\n",
       "Name: count, dtype: int64"
      ]
     },
     "execution_count": 15,
     "metadata": {},
     "output_type": "execute_result"
    }
   ],
   "source": [
    "df['target'].value_counts()"
   ]
  },
  {
   "cell_type": "code",
   "execution_count": 16,
   "id": "48c0f3ea-5c3a-4437-945a-9dce7c5b17b4",
   "metadata": {},
   "outputs": [],
   "source": [
    "# Separate only target 1 \n",
    "df_1 = df[df['target']==1]\n",
    "\n",
    "# Shuffle the samples labled 1 \n",
    "df_1 = df_1.sample(\n",
    "    frac = 1,        # Return entire dataframe\n",
    "    random_state=1   # Make result reproducible\n",
    "    ).reset_index(drop=True)\n",
    "\n",
    "# Extract 1154 samples from the target 0 dataset\n",
    "df_target_1 = df_1.iloc[:1154]"
   ]
  },
  {
   "cell_type": "code",
   "execution_count": 17,
   "id": "37e03358-aedc-46b7-8ab7-657a41301bb4",
   "metadata": {},
   "outputs": [],
   "source": [
    "# Separate only target 0 \n",
    "df_0 = df[df['target']==0]\n",
    "\n",
    "# Shuffle the resulting data set\n",
    "df_0 = df_0.sample(\n",
    "    frac = 1,        # Return entire dataframe\n",
    "    random_state=1   # Make result reproducible\n",
    "    ).reset_index(drop=True)\n",
    "\n",
    "# Extract 2823 samples from the target 1 dataset\n",
    "df_target_0 = df_0.iloc[:2023]"
   ]
  },
  {
   "cell_type": "code",
   "execution_count": 18,
   "id": "6b0bd386-ed19-4e41-9265-6ede2e055a40",
   "metadata": {},
   "outputs": [
    {
     "data": {
      "text/plain": [
       "target\n",
       "0    2023\n",
       "1    1154\n",
       "Name: count, dtype: int64"
      ]
     },
     "execution_count": 18,
     "metadata": {},
     "output_type": "execute_result"
    }
   ],
   "source": [
    "# Concatenate the sifted target 0 with the original target 1\n",
    "df = pd.concat([df_target_0, df_target_1])\n",
    "\n",
    "# Count the target\n",
    "df['target'].value_counts()"
   ]
  },
  {
   "cell_type": "markdown",
   "id": "44e8593b-2d8f-46b3-ba48-3957df4216c2",
   "metadata": {},
   "source": [
    "[<a href=\"#content\">Back to top</a>]"
   ]
  },
  {
   "cell_type": "markdown",
   "id": "7a0c3dae-e896-4e89-9662-02e16c035578",
   "metadata": {},
   "source": [
    "## Create csv files <a name=\"3\"></a>"
   ]
  },
  {
   "cell_type": "code",
   "execution_count": 19,
   "id": "f86fa454",
   "metadata": {},
   "outputs": [],
   "source": [
    "# Create a dataframe with CID and SMILES columns\n",
    "df_smiles = df[['CID', 'SMILES']]\n",
    "\n",
    "df_smiles = df_smiles.sample(\n",
    "    frac = 1,        # Return entire dataframe\n",
    "    random_state=1   # Make result reproducible\n",
    "    ).reset_index(drop=True)\n",
    "\n",
    "# Create a csv file from the resulted dataframe\n",
    "df_smiles.to_csv('smiles.csv', index=False)  "
   ]
  },
  {
   "cell_type": "code",
   "execution_count": 20,
   "id": "ada2071a",
   "metadata": {},
   "outputs": [],
   "source": [
    "# Create a dataframe with the targets\n",
    "df = df[['CID', 'target', 'SMILES']]\n",
    "\n",
    "# Create a csv file with the targets\n",
    "df.to_csv('targets.csv', index=False)"
   ]
  },
  {
   "cell_type": "markdown",
   "id": "f7d33e4f-512b-459f-9a9e-7b64f11c7a91",
   "metadata": {},
   "source": [
    "[<a href=\"#content\">Back to top</a>]"
   ]
  }
 ],
 "metadata": {
  "kernelspec": {
   "display_name": "Python 3 (ipykernel)",
   "language": "python",
   "name": "python3"
  },
  "language_info": {
   "codemirror_mode": {
    "name": "ipython",
    "version": 3
   },
   "file_extension": ".py",
   "mimetype": "text/x-python",
   "name": "python",
   "nbconvert_exporter": "python",
   "pygments_lexer": "ipython3",
   "version": "3.12.2"
  }
 },
 "nbformat": 4,
 "nbformat_minor": 5
}
